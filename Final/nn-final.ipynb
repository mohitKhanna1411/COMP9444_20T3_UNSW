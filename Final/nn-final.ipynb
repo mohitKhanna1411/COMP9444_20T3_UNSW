{
 "cells": [
  {
   "cell_type": "code",
   "execution_count": 40,
   "metadata": {},
   "outputs": [
    {
     "output_type": "execute_result",
     "data": {
      "text/plain": [
       "1.875"
      ]
     },
     "metadata": {},
     "execution_count": 40
    }
   ],
   "source": [
    "#entrophy\n",
    "from math import log\n",
    "p = [1/2, 1/4, 1/8, 1/16, 1/16] #prob space ⟨ 1⁄2, 1⁄4, 1⁄8, 1⁄16, 1⁄16 ⟩\n",
    "def H(p):\n",
    "    ret = 0\n",
    "    for x in p:\n",
    "        ret += (x * (-log(x,2)))\n",
    "    return ret\n",
    "H(p)\n"
   ]
  },
  {
   "cell_type": "code",
   "execution_count": 48,
   "metadata": {},
   "outputs": [
    {
     "output_type": "stream",
     "name": "stdout",
     "text": [
      "D_KL(p||q):  0.4375 \nD_KL(q||p):  0.4375\n"
     ]
    }
   ],
   "source": [
    "#KL-Divergence\n",
    "\n",
    "from math import log\n",
    "p = [1/2, 1/4, 1/8, 1/16, 1/16] #prob space ½, ¼, ⅛, ⅛\n",
    "q = [1/2, 1/16, 1/16, 1/4, 1/8] #¼, ⅛, ⅛, ½ ⟨ 1⁄2, 1⁄16, 1⁄16, 1⁄4, 1⁄8 ⟩\n",
    "\n",
    "#D_KL(p||q)\n",
    "D_KL_pq = 0\n",
    "#D_KL(q||p)\n",
    "D_KL_qp = 0\n",
    "for x,y in zip(p,q):\n",
    "    D_KL_pq += x * (log(x, 2) - log(y, 2))\n",
    "    D_KL_qp += y * (log(y,2) - log(x,2))\n",
    "print(\"D_KL(p||q): \", D_KL_pq, \"\\nD_KL(q||p): \", D_KL_qp)"
   ]
  },
  {
   "cell_type": "code",
   "execution_count": 13,
   "metadata": {},
   "outputs": [
    {
     "output_type": "execute_result",
     "data": {
      "text/plain": [
       "0.7"
      ]
     },
     "metadata": {},
     "execution_count": 13
    }
   ],
   "source": [
    "#bayes\n",
    "#event A conditon C\n",
    "P_A = 0.6 * 0.2 + 0.4 * 0.7\n",
    "P_AC = 0.7\n",
    "P_C = 0.4\n",
    "P_CA = 0\n",
    "\n",
    "P_CA = P_AC * P_C / P_A\n",
    "P_CA"
   ]
  },
  {
   "cell_type": "code",
   "execution_count": null,
   "metadata": {},
   "outputs": [],
   "source": [
    "#identical inputs\n",
    "# sum-squared-error is minimized\n",
    "\n",
    "# cross entropy is minimized"
   ]
  },
  {
   "cell_type": "code",
   "execution_count": 47,
   "metadata": {},
   "outputs": [
    {
     "output_type": "stream",
     "name": "stdout",
     "text": [
      "[0.06654536597866349, 0.19991332752418176, 0.7335413064971548]\n-0.07\n-0.20\n+0.27\n"
     ]
    }
   ],
   "source": [
    "from math import exp\n",
    "#softmax\n",
    "#Prob(i) = exp(zi) / Σj exp(zj)\n",
    "z = [1.3,2.4,3.7] #z1= 1.3, z2= 2.4, z3= 3.7\n",
    "sum = 0\n",
    "for i in z:\n",
    "    sum += exp(i)\n",
    "\n",
    "prob = []\n",
    "for i in z:\n",
    "    prob.append( exp(i) / (sum))\n",
    "\n",
    "# prob list \n",
    "print(prob)\n",
    "\n",
    "# d(log Prob(2))/dzj, for j in 1,2,3\n",
    "d1 =  -prob[0] \n",
    "d2 =  - prob[1]\n",
    "d3 = 1 -prob[2]\n",
    "\n",
    "print(\"{:+.2f}\".format(d1))\n",
    "print(\"{:+.2f}\".format(d2))\n",
    "print(\"{:+.2f}\".format(d3))"
   ]
  },
  {
   "cell_type": "code",
   "execution_count": 43,
   "metadata": {},
   "outputs": [
    {
     "output_type": "stream",
     "name": "stdout",
     "text": [
      "weights per neuron:  109\nwidth and height of layer:  19.0 25.0\nneurons in layer:  7600.0\nconnections:  828400.0\nindependent parameters:  1744\n\n"
     ]
    }
   ],
   "source": [
    "#Convolutional Network Architecture\n",
    "J = 42\n",
    "K = 54\n",
    "L = 3\n",
    "M = N = 6\n",
    "P = 0\n",
    "s = 2\n",
    "convolves = 16\n",
    "\n",
    "w = 1 + M*N*L\n",
    "print(\"weights per neuron: \", w)\n",
    "wd = 1 +  (J-M)/s\n",
    "ht = 1 +  (K-M)/s\n",
    "print(\"width and height of layer: \", wd, ht)\n",
    "neros = wd * ht * convolves\n",
    "print(\"neurons in layer: \",neros)\n",
    "conn = neros * w\n",
    "print(\"connections: \", conn)\n",
    "indp = convolves * w\n",
    "print(\"independent parameters: \", indp)\n",
    "print()"
   ]
  },
  {
   "cell_type": "code",
   "execution_count": 6,
   "metadata": {},
   "outputs": [
    {
     "output_type": "execute_result",
     "data": {
      "text/plain": [
       "'.'"
      ]
     },
     "metadata": {},
     "execution_count": 6
    }
   ],
   "source": [
    "import os\n",
    "os.curdir"
   ]
  },
  {
   "cell_type": "code",
   "execution_count": null,
   "metadata": {},
   "outputs": [],
   "source": []
  }
 ],
 "metadata": {
  "kernelspec": {
   "name": "python3",
   "display_name": "Python 3.7.4 64-bit",
   "metadata": {
    "interpreter": {
     "hash": "e534e48711db4d1e1c48977d0d14ff85b1f16d41bcc4fdfd88268a329b3c9d66"
    }
   }
  },
  "language_info": {
   "codemirror_mode": {
    "name": "ipython",
    "version": 3
   },
   "file_extension": ".py",
   "mimetype": "text/x-python",
   "name": "python",
   "nbconvert_exporter": "python",
   "pygments_lexer": "ipython3",
   "version": "3.7.4-final"
  }
 },
 "nbformat": 4,
 "nbformat_minor": 4
}